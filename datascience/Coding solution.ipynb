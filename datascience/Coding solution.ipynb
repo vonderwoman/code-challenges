{
  "nbformat": 4,
  "nbformat_minor": 0,
  "metadata": {
    "colab": {
      "cell_execution_strategy": "setup",
      "provenance": []
    },
    "kernelspec": {
      "name": "python3",
      "display_name": "Python 3"
    },
    "language_info": {
      "name": "python"
    }
  },
  "cells": [
    {
      "cell_type": "markdown",
      "source": [
        "#**Solving the datascience coding challenge**"
      ],
      "metadata": {
        "id": "PYt5QGSf67N3"
      }
    },
    {
      "cell_type": "code",
      "source": [
        "# Importing the libraries\n",
        "\n",
        "import bigframes.pandas as bf\n",
        "import pandas as pd\n",
        "\n",
        "\n",
        "bf.options.bigquery.location = \"EU\" #this variable is set based on the dataset you chose to query\n",
        "bf.options.bigquery.project = \"neat-bricolage-425013-d4\" #this variable is set based on the dataset you chose to query"
      ],
      "metadata": {
        "id": "tJSfAiHycbAj",
        "executionInfo": {
          "status": "ok",
          "timestamp": 1719820474158,
          "user_tz": -120,
          "elapsed": 186,
          "user": {
            "displayName": "",
            "userId": ""
          }
        }
      },
      "execution_count": 8,
      "outputs": []
    },
    {
      "cell_type": "code",
      "source": [
        "#reading the dataset\n",
        "df = bf.read_gbq(\"neat-bricolage-425013-d4.challenge_101.challenge_20\") #this variable is set based on the dataset you chose to query"
      ],
      "metadata": {
        "id": "fUsQzlgjiA_G",
        "colab": {
          "base_uri": "https://localhost:8080/"
        },
        "executionInfo": {
          "status": "ok",
          "timestamp": 1719820480043,
          "user_tz": -120,
          "elapsed": 965,
          "user": {
            "displayName": "",
            "userId": ""
          }
        },
        "outputId": "67cf9d5c-905e-4c25-f682-ee65d8a46f69"
      },
      "execution_count": 9,
      "outputs": [
        {
          "output_type": "stream",
          "name": "stderr",
          "text": [
            "/usr/local/lib/python3.10/dist-packages/IPython/core/interactiveshell.py:3553: UserWarning: Reading cached table from 2024-07-01 07:48:31.882189+00:00 to avoid incompatibilies with previous reads of this table. To read the latest version, set `use_cache=False` or close the current session with Session.close() or bigframes.pandas.close_session().\n",
            "  exec(code_obj, self.user_global_ns, self.user_ns)\n"
          ]
        }
      ]
    },
    {
      "cell_type": "code",
      "source": [
        "# overview of the dataset\n",
        "# Look at the first 20 rows.\n",
        "df.head(20)"
      ],
      "metadata": {
        "id": "YQguJBV6iRSI",
        "colab": {
          "base_uri": "https://localhost:8080/",
          "height": 1000
        },
        "executionInfo": {
          "status": "ok",
          "timestamp": 1719820502312,
          "user_tz": -120,
          "elapsed": 11156,
          "user": {
            "displayName": "",
            "userId": ""
          }
        },
        "outputId": "dd8aaad3-b8b5-4382-865e-77eef618b094"
      },
      "execution_count": 10,
      "outputs": [
        {
          "output_type": "display_data",
          "data": {
            "text/plain": [
              "<IPython.core.display.HTML object>"
            ],
            "text/html": [
              "Query job f4b4f99a-5031-4aca-bbd7-e019014499e2 is DONE. 1.3 MB processed. <a target=\"_blank\" href=\"https://console.cloud.google.com/bigquery?project=neat-bricolage-425013-d4&j=bq:EU:f4b4f99a-5031-4aca-bbd7-e019014499e2&page=queryresults\">Open Job</a>"
            ]
          },
          "metadata": {}
        },
        {
          "output_type": "display_data",
          "data": {
            "text/plain": [
              "<IPython.core.display.HTML object>"
            ],
            "text/html": [
              "Query job b8434d9c-f0f8-4f50-90aa-762f6e971aea is DONE. 0 Bytes processed. <a target=\"_blank\" href=\"https://console.cloud.google.com/bigquery?project=neat-bricolage-425013-d4&j=bq:EU:b8434d9c-f0f8-4f50-90aa-762f6e971aea&page=queryresults\">Open Job</a>"
            ]
          },
          "metadata": {}
        },
        {
          "output_type": "display_data",
          "data": {
            "text/plain": [
              "<IPython.core.display.HTML object>"
            ],
            "text/html": [
              "Query job 9face953-0aba-4d1c-8c8b-70c11f972bc3 is DONE. 2.0 kB processed. <a target=\"_blank\" href=\"https://console.cloud.google.com/bigquery?project=neat-bricolage-425013-d4&j=bq:EU:9face953-0aba-4d1c-8c8b-70c11f972bc3&page=queryresults\">Open Job</a>"
            ]
          },
          "metadata": {}
        },
        {
          "output_type": "execute_result",
          "data": {
            "text/plain": [
              "         date  station_number  mean_temp  mean_dew_point  \\\n",
              "0  2008-01-08          725300  54.200001       51.200001   \n",
              "1  2008-01-20          725315        4.9            -5.7   \n",
              "2  2010-03-01          725326       34.5            27.6   \n",
              "3  2009-08-10          725300       78.0            66.0   \n",
              "4  2008-05-03          725316       55.0       40.599998   \n",
              "5  2007-12-02          725330       42.0       36.299999   \n",
              "6  2007-01-06          725317  43.900002            40.0   \n",
              "7  2006-10-15          725317       44.0       23.200001   \n",
              "8  2006-09-05          725327  64.599998       58.799999   \n",
              "9  2008-12-18          725314       26.5       21.700001   \n",
              "10 2007-12-10          725316  32.099998            28.9   \n",
              "11 2006-10-10          725316  60.700001            51.5   \n",
              "12 2006-05-16          725327  49.900002       48.900002   \n",
              "13 2009-06-16          725330  68.400002       54.900002   \n",
              "14 2006-04-25          725317  52.599998       44.799999   \n",
              "15 2010-03-20          725327  37.799999       32.400002   \n",
              "16 2007-09-12          725326  55.900002       37.700001   \n",
              "17 2006-12-10          725320  32.900002            21.5   \n",
              "18 2008-03-26          725305  41.400002       27.299999   \n",
              "19 2007-06-09          725315  66.699997            46.5   \n",
              "\n",
              "    mean_sealevel_pressure  mean_visibility  mean_wind_speed  max_temperature  \\\n",
              "0              1006.099976              8.3             11.6             41.0   \n",
              "1              1034.199951             10.0              8.2             -4.0   \n",
              "2                     17.7             10.0              6.5        30.200001   \n",
              "3              1014.299988             10.0              7.2        69.800003   \n",
              "4              1005.700012             10.0             13.9        48.200001   \n",
              "5              1013.700012              7.4             11.8             19.0   \n",
              "6              1013.299988              8.3              7.9        35.599998   \n",
              "7                   1019.0             10.0              4.7             28.9   \n",
              "8              1019.400024              6.8              2.2             59.0   \n",
              "9                   1026.0              8.5              4.0        21.200001   \n",
              "10             1026.800049              1.9              4.2             30.0   \n",
              "11             1017.299988             10.0              4.8        51.799999   \n",
              "12             1010.299988              7.0              5.9             46.0   \n",
              "13                  1015.5              9.7              7.7             59.0   \n",
              "14             1012.299988              9.5              8.8        42.799999   \n",
              "15                  1017.0             10.0              9.3        33.099998   \n",
              "16               59.642857             10.0              4.2             41.0   \n",
              "17             1023.099976             10.0             10.2             26.6   \n",
              "18                  1018.5              9.5              6.6             28.0   \n",
              "19             1019.299988             10.0              4.1        51.099998   \n",
              "\n",
              "    total_precipitation  snow_depth    fog   snow   hail  thunder  \n",
              "0                  0.39        3.76  False  False  False    False  \n",
              "1                   0.0         0.0  False  False  False    False  \n",
              "2                  0.02         0.0  False  False  False    False  \n",
              "3                   0.0         0.0  False  False  False    False  \n",
              "4                   0.2         0.0  False  False  False    False  \n",
              "5                  0.23         0.0  False  False  False    False  \n",
              "6                   0.0         0.0  False  False  False    False  \n",
              "7                   0.0         0.0  False  False  False    False  \n",
              "8                   0.0         0.0  False  False  False    False  \n",
              "9                   0.0         0.0  False  False  False    False  \n",
              "10                 0.47         0.0  False  False  False    False  \n",
              "11                  0.0         0.0  False  False  False    False  \n",
              "12                  0.0         0.0  False  False  False    False  \n",
              "13                 0.03         0.0  False  False  False    False  \n",
              "14                 0.06         0.0  False  False  False    False  \n",
              "15                  0.0         0.0  False  False  False    False  \n",
              "16                  0.0         0.0  False  False  False    False  \n",
              "17                  0.0         0.0  False  False  False    False  \n",
              "18                  0.0         0.0  False  False  False    False  \n",
              "19                  0.0         0.0  False  False  False    False  \n",
              "\n",
              "[20 rows x 14 columns]"
            ],
            "text/html": [
              "<div>\n",
              "<style scoped>\n",
              "    .dataframe tbody tr th:only-of-type {\n",
              "        vertical-align: middle;\n",
              "    }\n",
              "\n",
              "    .dataframe tbody tr th {\n",
              "        vertical-align: top;\n",
              "    }\n",
              "\n",
              "    .dataframe thead th {\n",
              "        text-align: right;\n",
              "    }\n",
              "</style>\n",
              "<table border=\"1\" class=\"dataframe\">\n",
              "  <thead>\n",
              "    <tr style=\"text-align: right;\">\n",
              "      <th></th>\n",
              "      <th>date</th>\n",
              "      <th>station_number</th>\n",
              "      <th>mean_temp</th>\n",
              "      <th>mean_dew_point</th>\n",
              "      <th>mean_sealevel_pressure</th>\n",
              "      <th>mean_visibility</th>\n",
              "      <th>mean_wind_speed</th>\n",
              "      <th>max_temperature</th>\n",
              "      <th>total_precipitation</th>\n",
              "      <th>snow_depth</th>\n",
              "      <th>fog</th>\n",
              "      <th>snow</th>\n",
              "      <th>hail</th>\n",
              "      <th>thunder</th>\n",
              "    </tr>\n",
              "  </thead>\n",
              "  <tbody>\n",
              "    <tr>\n",
              "      <th>0</th>\n",
              "      <td>2008-01-08</td>\n",
              "      <td>725300</td>\n",
              "      <td>54.200001</td>\n",
              "      <td>51.200001</td>\n",
              "      <td>1006.099976</td>\n",
              "      <td>8.3</td>\n",
              "      <td>11.6</td>\n",
              "      <td>41.0</td>\n",
              "      <td>0.39</td>\n",
              "      <td>3.76</td>\n",
              "      <td>False</td>\n",
              "      <td>False</td>\n",
              "      <td>False</td>\n",
              "      <td>False</td>\n",
              "    </tr>\n",
              "    <tr>\n",
              "      <th>1</th>\n",
              "      <td>2008-01-20</td>\n",
              "      <td>725315</td>\n",
              "      <td>4.9</td>\n",
              "      <td>-5.7</td>\n",
              "      <td>1034.199951</td>\n",
              "      <td>10.0</td>\n",
              "      <td>8.2</td>\n",
              "      <td>-4.0</td>\n",
              "      <td>0.0</td>\n",
              "      <td>0.0</td>\n",
              "      <td>False</td>\n",
              "      <td>False</td>\n",
              "      <td>False</td>\n",
              "      <td>False</td>\n",
              "    </tr>\n",
              "    <tr>\n",
              "      <th>2</th>\n",
              "      <td>2010-03-01</td>\n",
              "      <td>725326</td>\n",
              "      <td>34.5</td>\n",
              "      <td>27.6</td>\n",
              "      <td>17.7</td>\n",
              "      <td>10.0</td>\n",
              "      <td>6.5</td>\n",
              "      <td>30.200001</td>\n",
              "      <td>0.02</td>\n",
              "      <td>0.0</td>\n",
              "      <td>False</td>\n",
              "      <td>False</td>\n",
              "      <td>False</td>\n",
              "      <td>False</td>\n",
              "    </tr>\n",
              "    <tr>\n",
              "      <th>3</th>\n",
              "      <td>2009-08-10</td>\n",
              "      <td>725300</td>\n",
              "      <td>78.0</td>\n",
              "      <td>66.0</td>\n",
              "      <td>1014.299988</td>\n",
              "      <td>10.0</td>\n",
              "      <td>7.2</td>\n",
              "      <td>69.800003</td>\n",
              "      <td>0.0</td>\n",
              "      <td>0.0</td>\n",
              "      <td>False</td>\n",
              "      <td>False</td>\n",
              "      <td>False</td>\n",
              "      <td>False</td>\n",
              "    </tr>\n",
              "    <tr>\n",
              "      <th>4</th>\n",
              "      <td>2008-05-03</td>\n",
              "      <td>725316</td>\n",
              "      <td>55.0</td>\n",
              "      <td>40.599998</td>\n",
              "      <td>1005.700012</td>\n",
              "      <td>10.0</td>\n",
              "      <td>13.9</td>\n",
              "      <td>48.200001</td>\n",
              "      <td>0.2</td>\n",
              "      <td>0.0</td>\n",
              "      <td>False</td>\n",
              "      <td>False</td>\n",
              "      <td>False</td>\n",
              "      <td>False</td>\n",
              "    </tr>\n",
              "    <tr>\n",
              "      <th>5</th>\n",
              "      <td>2007-12-02</td>\n",
              "      <td>725330</td>\n",
              "      <td>42.0</td>\n",
              "      <td>36.299999</td>\n",
              "      <td>1013.700012</td>\n",
              "      <td>7.4</td>\n",
              "      <td>11.8</td>\n",
              "      <td>19.0</td>\n",
              "      <td>0.23</td>\n",
              "      <td>0.0</td>\n",
              "      <td>False</td>\n",
              "      <td>False</td>\n",
              "      <td>False</td>\n",
              "      <td>False</td>\n",
              "    </tr>\n",
              "    <tr>\n",
              "      <th>6</th>\n",
              "      <td>2007-01-06</td>\n",
              "      <td>725317</td>\n",
              "      <td>43.900002</td>\n",
              "      <td>40.0</td>\n",
              "      <td>1013.299988</td>\n",
              "      <td>8.3</td>\n",
              "      <td>7.9</td>\n",
              "      <td>35.599998</td>\n",
              "      <td>0.0</td>\n",
              "      <td>0.0</td>\n",
              "      <td>False</td>\n",
              "      <td>False</td>\n",
              "      <td>False</td>\n",
              "      <td>False</td>\n",
              "    </tr>\n",
              "    <tr>\n",
              "      <th>7</th>\n",
              "      <td>2006-10-15</td>\n",
              "      <td>725317</td>\n",
              "      <td>44.0</td>\n",
              "      <td>23.200001</td>\n",
              "      <td>1019.0</td>\n",
              "      <td>10.0</td>\n",
              "      <td>4.7</td>\n",
              "      <td>28.9</td>\n",
              "      <td>0.0</td>\n",
              "      <td>0.0</td>\n",
              "      <td>False</td>\n",
              "      <td>False</td>\n",
              "      <td>False</td>\n",
              "      <td>False</td>\n",
              "    </tr>\n",
              "    <tr>\n",
              "      <th>8</th>\n",
              "      <td>2006-09-05</td>\n",
              "      <td>725327</td>\n",
              "      <td>64.599998</td>\n",
              "      <td>58.799999</td>\n",
              "      <td>1019.400024</td>\n",
              "      <td>6.8</td>\n",
              "      <td>2.2</td>\n",
              "      <td>59.0</td>\n",
              "      <td>0.0</td>\n",
              "      <td>0.0</td>\n",
              "      <td>False</td>\n",
              "      <td>False</td>\n",
              "      <td>False</td>\n",
              "      <td>False</td>\n",
              "    </tr>\n",
              "    <tr>\n",
              "      <th>9</th>\n",
              "      <td>2008-12-18</td>\n",
              "      <td>725314</td>\n",
              "      <td>26.5</td>\n",
              "      <td>21.700001</td>\n",
              "      <td>1026.0</td>\n",
              "      <td>8.5</td>\n",
              "      <td>4.0</td>\n",
              "      <td>21.200001</td>\n",
              "      <td>0.0</td>\n",
              "      <td>0.0</td>\n",
              "      <td>False</td>\n",
              "      <td>False</td>\n",
              "      <td>False</td>\n",
              "      <td>False</td>\n",
              "    </tr>\n",
              "    <tr>\n",
              "      <th>10</th>\n",
              "      <td>2007-12-10</td>\n",
              "      <td>725316</td>\n",
              "      <td>32.099998</td>\n",
              "      <td>28.9</td>\n",
              "      <td>1026.800049</td>\n",
              "      <td>1.9</td>\n",
              "      <td>4.2</td>\n",
              "      <td>30.0</td>\n",
              "      <td>0.47</td>\n",
              "      <td>0.0</td>\n",
              "      <td>False</td>\n",
              "      <td>False</td>\n",
              "      <td>False</td>\n",
              "      <td>False</td>\n",
              "    </tr>\n",
              "    <tr>\n",
              "      <th>11</th>\n",
              "      <td>2006-10-10</td>\n",
              "      <td>725316</td>\n",
              "      <td>60.700001</td>\n",
              "      <td>51.5</td>\n",
              "      <td>1017.299988</td>\n",
              "      <td>10.0</td>\n",
              "      <td>4.8</td>\n",
              "      <td>51.799999</td>\n",
              "      <td>0.0</td>\n",
              "      <td>0.0</td>\n",
              "      <td>False</td>\n",
              "      <td>False</td>\n",
              "      <td>False</td>\n",
              "      <td>False</td>\n",
              "    </tr>\n",
              "    <tr>\n",
              "      <th>12</th>\n",
              "      <td>2006-05-16</td>\n",
              "      <td>725327</td>\n",
              "      <td>49.900002</td>\n",
              "      <td>48.900002</td>\n",
              "      <td>1010.299988</td>\n",
              "      <td>7.0</td>\n",
              "      <td>5.9</td>\n",
              "      <td>46.0</td>\n",
              "      <td>0.0</td>\n",
              "      <td>0.0</td>\n",
              "      <td>False</td>\n",
              "      <td>False</td>\n",
              "      <td>False</td>\n",
              "      <td>False</td>\n",
              "    </tr>\n",
              "    <tr>\n",
              "      <th>13</th>\n",
              "      <td>2009-06-16</td>\n",
              "      <td>725330</td>\n",
              "      <td>68.400002</td>\n",
              "      <td>54.900002</td>\n",
              "      <td>1015.5</td>\n",
              "      <td>9.7</td>\n",
              "      <td>7.7</td>\n",
              "      <td>59.0</td>\n",
              "      <td>0.03</td>\n",
              "      <td>0.0</td>\n",
              "      <td>False</td>\n",
              "      <td>False</td>\n",
              "      <td>False</td>\n",
              "      <td>False</td>\n",
              "    </tr>\n",
              "    <tr>\n",
              "      <th>14</th>\n",
              "      <td>2006-04-25</td>\n",
              "      <td>725317</td>\n",
              "      <td>52.599998</td>\n",
              "      <td>44.799999</td>\n",
              "      <td>1012.299988</td>\n",
              "      <td>9.5</td>\n",
              "      <td>8.8</td>\n",
              "      <td>42.799999</td>\n",
              "      <td>0.06</td>\n",
              "      <td>0.0</td>\n",
              "      <td>False</td>\n",
              "      <td>False</td>\n",
              "      <td>False</td>\n",
              "      <td>False</td>\n",
              "    </tr>\n",
              "    <tr>\n",
              "      <th>15</th>\n",
              "      <td>2010-03-20</td>\n",
              "      <td>725327</td>\n",
              "      <td>37.799999</td>\n",
              "      <td>32.400002</td>\n",
              "      <td>1017.0</td>\n",
              "      <td>10.0</td>\n",
              "      <td>9.3</td>\n",
              "      <td>33.099998</td>\n",
              "      <td>0.0</td>\n",
              "      <td>0.0</td>\n",
              "      <td>False</td>\n",
              "      <td>False</td>\n",
              "      <td>False</td>\n",
              "      <td>False</td>\n",
              "    </tr>\n",
              "    <tr>\n",
              "      <th>16</th>\n",
              "      <td>2007-09-12</td>\n",
              "      <td>725326</td>\n",
              "      <td>55.900002</td>\n",
              "      <td>37.700001</td>\n",
              "      <td>59.642857</td>\n",
              "      <td>10.0</td>\n",
              "      <td>4.2</td>\n",
              "      <td>41.0</td>\n",
              "      <td>0.0</td>\n",
              "      <td>0.0</td>\n",
              "      <td>False</td>\n",
              "      <td>False</td>\n",
              "      <td>False</td>\n",
              "      <td>False</td>\n",
              "    </tr>\n",
              "    <tr>\n",
              "      <th>17</th>\n",
              "      <td>2006-12-10</td>\n",
              "      <td>725320</td>\n",
              "      <td>32.900002</td>\n",
              "      <td>21.5</td>\n",
              "      <td>1023.099976</td>\n",
              "      <td>10.0</td>\n",
              "      <td>10.2</td>\n",
              "      <td>26.6</td>\n",
              "      <td>0.0</td>\n",
              "      <td>0.0</td>\n",
              "      <td>False</td>\n",
              "      <td>False</td>\n",
              "      <td>False</td>\n",
              "      <td>False</td>\n",
              "    </tr>\n",
              "    <tr>\n",
              "      <th>18</th>\n",
              "      <td>2008-03-26</td>\n",
              "      <td>725305</td>\n",
              "      <td>41.400002</td>\n",
              "      <td>27.299999</td>\n",
              "      <td>1018.5</td>\n",
              "      <td>9.5</td>\n",
              "      <td>6.6</td>\n",
              "      <td>28.0</td>\n",
              "      <td>0.0</td>\n",
              "      <td>0.0</td>\n",
              "      <td>False</td>\n",
              "      <td>False</td>\n",
              "      <td>False</td>\n",
              "      <td>False</td>\n",
              "    </tr>\n",
              "    <tr>\n",
              "      <th>19</th>\n",
              "      <td>2007-06-09</td>\n",
              "      <td>725315</td>\n",
              "      <td>66.699997</td>\n",
              "      <td>46.5</td>\n",
              "      <td>1019.299988</td>\n",
              "      <td>10.0</td>\n",
              "      <td>4.1</td>\n",
              "      <td>51.099998</td>\n",
              "      <td>0.0</td>\n",
              "      <td>0.0</td>\n",
              "      <td>False</td>\n",
              "      <td>False</td>\n",
              "      <td>False</td>\n",
              "      <td>False</td>\n",
              "    </tr>\n",
              "  </tbody>\n",
              "</table>\n",
              "<p>20 rows × 14 columns</p>\n",
              "</div>[20 rows x 14 columns in total]"
            ]
          },
          "metadata": {},
          "execution_count": 10
        }
      ]
    },
    {
      "cell_type": "code",
      "source": [
        "# Print the data types\n",
        "print(df.dtypes)"
      ],
      "metadata": {
        "colab": {
          "base_uri": "https://localhost:8080/"
        },
        "id": "kp_GG9meTRok",
        "executionInfo": {
          "status": "ok",
          "timestamp": 1719820693584,
          "user_tz": -120,
          "elapsed": 179,
          "user": {
            "displayName": "",
            "userId": ""
          }
        },
        "outputId": "20589d26-950a-4f1e-b527-715a5c4fe97d"
      },
      "execution_count": 11,
      "outputs": [
        {
          "output_type": "stream",
          "name": "stdout",
          "text": [
            "date                      date32[day][pyarrow]\n",
            "station_number                           Int64\n",
            "mean_temp                              Float64\n",
            "mean_dew_point                         Float64\n",
            "mean_sealevel_pressure                 Float64\n",
            "mean_visibility                        Float64\n",
            "mean_wind_speed                        Float64\n",
            "max_temperature                        Float64\n",
            "total_precipitation                    Float64\n",
            "snow_depth                             Float64\n",
            "fog                                    boolean\n",
            "snow                                   boolean\n",
            "hail                                   boolean\n",
            "thunder                                boolean\n",
            "dtype: object\n"
          ]
        }
      ]
    },
    {
      "cell_type": "markdown",
      "source": [
        "## **Part 1**"
      ],
      "metadata": {
        "id": "5T5nWbwJCYrT"
      }
    },
    {
      "cell_type": "markdown",
      "source": [
        "### **1. Task**\n",
        "Change the date format to 'YYYY-MM-DD' and select the data from 2005 till 2009 for station numbers including and between 725300 and 726300 , and save it as a pandas dataframe. Note the maximum year available is 2010."
      ],
      "metadata": {
        "id": "fEJsPTzTCeW4"
      }
    },
    {
      "cell_type": "code",
      "source": [
        "df['date'] = df['date'].dt.strftime('%Y-%m-%d')"
      ],
      "metadata": {
        "id": "MVk4tQryCYOh",
        "executionInfo": {
          "status": "ok",
          "timestamp": 1719820760321,
          "user_tz": -120,
          "elapsed": 196,
          "user": {
            "displayName": "",
            "userId": ""
          }
        }
      },
      "execution_count": 12,
      "outputs": []
    },
    {
      "cell_type": "code",
      "source": [
        "# Verify the date formatting\n",
        "print(df['date'].head())"
      ],
      "metadata": {
        "colab": {
          "base_uri": "https://localhost:8080/",
          "height": 173
        },
        "id": "YEEurT0YCi03",
        "executionInfo": {
          "status": "ok",
          "timestamp": 1719820843004,
          "user_tz": -120,
          "elapsed": 33033,
          "user": {
            "displayName": "",
            "userId": ""
          }
        },
        "outputId": "d41f5d9b-9fca-4d8b-b453-ddd87d99273f"
      },
      "execution_count": 13,
      "outputs": [
        {
          "output_type": "display_data",
          "data": {
            "text/plain": [
              "<IPython.core.display.HTML object>"
            ],
            "text/html": [
              "Query job 6710bcc2-5c5a-4c77-ae62-f1726aba01e4 is DONE. 1.3 MB processed. <a target=\"_blank\" href=\"https://console.cloud.google.com/bigquery?project=neat-bricolage-425013-d4&j=bq:EU:6710bcc2-5c5a-4c77-ae62-f1726aba01e4&page=queryresults\">Open Job</a>"
            ]
          },
          "metadata": {}
        },
        {
          "output_type": "display_data",
          "data": {
            "text/plain": [
              "<IPython.core.display.HTML object>"
            ],
            "text/html": [
              "Query job ef57efb7-126f-4469-8439-220af81b6ee5 is DONE. 0 Bytes processed. <a target=\"_blank\" href=\"https://console.cloud.google.com/bigquery?project=neat-bricolage-425013-d4&j=bq:EU:ef57efb7-126f-4469-8439-220af81b6ee5&page=queryresults\">Open Job</a>"
            ]
          },
          "metadata": {}
        },
        {
          "output_type": "display_data",
          "data": {
            "text/plain": [
              "<IPython.core.display.HTML object>"
            ],
            "text/html": [
              "Query job a78f7d2b-40b4-4d8b-ba24-8846023563b4 is DONE. 140 Bytes processed. <a target=\"_blank\" href=\"https://console.cloud.google.com/bigquery?project=neat-bricolage-425013-d4&j=bq:EU:a78f7d2b-40b4-4d8b-ba24-8846023563b4&page=queryresults\">Open Job</a>"
            ]
          },
          "metadata": {}
        },
        {
          "output_type": "stream",
          "name": "stdout",
          "text": [
            "0    2008-01-08\n",
            "1    2008-01-20\n",
            "2    2010-03-01\n",
            "3    2009-08-10\n",
            "4    2008-05-03\n",
            "Name: date, dtype: string\n"
          ]
        }
      ]
    },
    {
      "cell_type": "code",
      "source": [
        "# Filter data for years 2005 to 2009 and station numbers between 725300 and 726300\n",
        "df_filtered = df[\n",
        "    (df['date'] >= '2005-01-01') &\n",
        "    (df['date'] <= '2010-12-31') &\n",
        "    (df['station_number'] >= 725300) &\n",
        "    (df['station_number'] <= 726300)\n",
        "]"
      ],
      "metadata": {
        "id": "H__EgsNpVxu_",
        "executionInfo": {
          "status": "ok",
          "timestamp": 1719822012850,
          "user_tz": -120,
          "elapsed": 239,
          "user": {
            "displayName": "",
            "userId": ""
          }
        }
      },
      "execution_count": 17,
      "outputs": []
    },
    {
      "cell_type": "code",
      "source": [
        "# Display the first 20 rows of the filtered DataFrame\n",
        "print(df_filtered.head(20))"
      ],
      "metadata": {
        "colab": {
          "base_uri": "https://localhost:8080/",
          "height": 1000
        },
        "id": "qpPxEtdkV5rz",
        "executionInfo": {
          "status": "ok",
          "timestamp": 1719822100404,
          "user_tz": -120,
          "elapsed": 14089,
          "user": {
            "displayName": "",
            "userId": ""
          }
        },
        "outputId": "bbc7258d-0306-464c-f66b-140a47a5f9e0"
      },
      "execution_count": 20,
      "outputs": [
        {
          "output_type": "display_data",
          "data": {
            "text/plain": [
              "<IPython.core.display.HTML object>"
            ],
            "text/html": [
              "Query job f011ee13-f0ef-4bd9-8116-0a2eaecf79e0 is DONE. 1.3 MB processed. <a target=\"_blank\" href=\"https://console.cloud.google.com/bigquery?project=neat-bricolage-425013-d4&j=bq:EU:f011ee13-f0ef-4bd9-8116-0a2eaecf79e0&page=queryresults\">Open Job</a>"
            ]
          },
          "metadata": {}
        },
        {
          "output_type": "display_data",
          "data": {
            "text/plain": [
              "<IPython.core.display.HTML object>"
            ],
            "text/html": [
              "Query job 01d3dc4a-048e-48b1-8c58-326bebada8e0 is DONE. 0 Bytes processed. <a target=\"_blank\" href=\"https://console.cloud.google.com/bigquery?project=neat-bricolage-425013-d4&j=bq:EU:01d3dc4a-048e-48b1-8c58-326bebada8e0&page=queryresults\">Open Job</a>"
            ]
          },
          "metadata": {}
        },
        {
          "output_type": "display_data",
          "data": {
            "text/plain": [
              "<IPython.core.display.HTML object>"
            ],
            "text/html": [
              "Query job dc6eab49-78bf-4790-8e26-75d0270852f8 is DONE. 2.1 kB processed. <a target=\"_blank\" href=\"https://console.cloud.google.com/bigquery?project=neat-bricolage-425013-d4&j=bq:EU:dc6eab49-78bf-4790-8e26-75d0270852f8&page=queryresults\">Open Job</a>"
            ]
          },
          "metadata": {}
        },
        {
          "output_type": "stream",
          "name": "stdout",
          "text": [
            "          date  station_number  mean_temp  mean_dew_point  \\\n",
            "0   2008-01-08          725300  54.200001       51.200001   \n",
            "1   2008-01-20          725315        4.9            -5.7   \n",
            "2   2010-03-01          725326       34.5            27.6   \n",
            "3   2009-08-10          725300       78.0            66.0   \n",
            "4   2008-05-03          725316       55.0       40.599998   \n",
            "5   2007-12-02          725330       42.0       36.299999   \n",
            "6   2007-01-06          725317  43.900002            40.0   \n",
            "7   2006-10-15          725317       44.0       23.200001   \n",
            "8   2006-09-05          725327  64.599998       58.799999   \n",
            "9   2008-12-18          725314       26.5       21.700001   \n",
            "10  2007-12-10          725316  32.099998            28.9   \n",
            "11  2006-10-10          725316  60.700001            51.5   \n",
            "12  2006-05-16          725327  49.900002       48.900002   \n",
            "13  2009-06-16          725330  68.400002       54.900002   \n",
            "14  2006-04-25          725317  52.599998       44.799999   \n",
            "15  2010-03-20          725327  37.799999       32.400002   \n",
            "16  2007-09-12          725326  55.900002       37.700001   \n",
            "17  2006-12-10          725320  32.900002            21.5   \n",
            "18  2008-03-26          725305  41.400002       27.299999   \n",
            "19  2007-06-09          725315  66.699997            46.5   \n",
            "\n",
            "    mean_sealevel_pressure  mean_visibility  mean_wind_speed  max_temperature  \\\n",
            "0              1006.099976              8.3             11.6             41.0   \n",
            "1              1034.199951             10.0              8.2             -4.0   \n",
            "2                     17.7             10.0              6.5        30.200001   \n",
            "3              1014.299988             10.0              7.2        69.800003   \n",
            "4              1005.700012             10.0             13.9        48.200001   \n",
            "5              1013.700012              7.4             11.8             19.0   \n",
            "6              1013.299988              8.3              7.9        35.599998   \n",
            "7                   1019.0             10.0              4.7             28.9   \n",
            "8              1019.400024              6.8              2.2             59.0   \n",
            "9                   1026.0              8.5              4.0        21.200001   \n",
            "10             1026.800049              1.9              4.2             30.0   \n",
            "11             1017.299988             10.0              4.8        51.799999   \n",
            "12             1010.299988              7.0              5.9             46.0   \n",
            "13                  1015.5              9.7              7.7             59.0   \n",
            "14             1012.299988              9.5              8.8        42.799999   \n",
            "15                  1017.0             10.0              9.3        33.099998   \n",
            "16               59.642857             10.0              4.2             41.0   \n",
            "17             1023.099976             10.0             10.2             26.6   \n",
            "18                  1018.5              9.5              6.6             28.0   \n",
            "19             1019.299988             10.0              4.1        51.099998   \n",
            "\n",
            "    total_precipitation  snow_depth    fog   snow   hail  thunder  \n",
            "0                  0.39        3.76  False  False  False    False  \n",
            "1                   0.0         0.0  False  False  False    False  \n",
            "2                  0.02         0.0  False  False  False    False  \n",
            "3                   0.0         0.0  False  False  False    False  \n",
            "4                   0.2         0.0  False  False  False    False  \n",
            "5                  0.23         0.0  False  False  False    False  \n",
            "6                   0.0         0.0  False  False  False    False  \n",
            "7                   0.0         0.0  False  False  False    False  \n",
            "8                   0.0         0.0  False  False  False    False  \n",
            "9                   0.0         0.0  False  False  False    False  \n",
            "10                 0.47         0.0  False  False  False    False  \n",
            "11                  0.0         0.0  False  False  False    False  \n",
            "12                  0.0         0.0  False  False  False    False  \n",
            "13                 0.03         0.0  False  False  False    False  \n",
            "14                 0.06         0.0  False  False  False    False  \n",
            "15                  0.0         0.0  False  False  False    False  \n",
            "16                  0.0         0.0  False  False  False    False  \n",
            "17                  0.0         0.0  False  False  False    False  \n",
            "18                  0.0         0.0  False  False  False    False  \n",
            "19                  0.0         0.0  False  False  False    False  \n",
            "\n",
            "[20 rows x 14 columns]\n"
          ]
        }
      ]
    },
    {
      "cell_type": "code",
      "source": [
        "# Save the filtered DataFrame as a pandas DataFrame\n",
        "filtered_df = pd.DataFrame(df_filtered)"
      ],
      "metadata": {
        "colab": {
          "base_uri": "https://localhost:8080/",
          "height": 34
        },
        "id": "PXdcbHROV6k3",
        "executionInfo": {
          "status": "ok",
          "timestamp": 1719822120030,
          "user_tz": -120,
          "elapsed": 8029,
          "user": {
            "displayName": "",
            "userId": ""
          }
        },
        "outputId": "5385d7e5-4940-4e5e-94f4-fed7736b91d5"
      },
      "execution_count": 21,
      "outputs": [
        {
          "output_type": "display_data",
          "data": {
            "text/plain": [
              "<IPython.core.display.HTML object>"
            ],
            "text/html": [
              "Query job df64f79d-60f4-4cfe-94b0-26b689d6e6a4 is DONE. 1.3 MB processed. <a target=\"_blank\" href=\"https://console.cloud.google.com/bigquery?project=neat-bricolage-425013-d4&j=bq:EU:df64f79d-60f4-4cfe-94b0-26b689d6e6a4&page=queryresults\">Open Job</a>"
            ]
          },
          "metadata": {}
        }
      ]
    },
    {
      "cell_type": "markdown",
      "source": [
        "### **2. Task**\n",
        "From here you want to work with the data from all stations 725300 to 725330 that have information from 2005 till 2009."
      ],
      "metadata": {
        "id": "S-dXtrg4PAfZ"
      }
    },
    {
      "cell_type": "code",
      "source": [
        "df_station_filtered = df[\n",
        "    (df['date'] >= '2005-01-01') &\n",
        "    (df['date'] <= '2009-12-31') &\n",
        "    (df['station_number'] >= 725300) &\n",
        "    (df['station_number'] <= 725330)\n",
        "]"
      ],
      "metadata": {
        "id": "NU9VXIoFOrDz",
        "executionInfo": {
          "status": "ok",
          "timestamp": 1719822530484,
          "user_tz": -120,
          "elapsed": 216,
          "user": {
            "displayName": "",
            "userId": ""
          }
        }
      },
      "execution_count": 22,
      "outputs": []
    },
    {
      "cell_type": "markdown",
      "source": [
        "Do a first analysis of the remaining dataset, clean or drop data depending on how you see appropriate."
      ],
      "metadata": {
        "id": "1QTFYPLeOyb_"
      }
    },
    {
      "cell_type": "code",
      "source": [
        "missing_values = df_station_filtered.isnull().sum()\n",
        "print(\"Missing values:\\n\", missing_values)"
      ],
      "metadata": {
        "colab": {
          "base_uri": "https://localhost:8080/",
          "height": 364
        },
        "id": "gRaS-OooaVxT",
        "executionInfo": {
          "status": "ok",
          "timestamp": 1719822573666,
          "user_tz": -120,
          "elapsed": 17906,
          "user": {
            "displayName": "",
            "userId": ""
          }
        },
        "outputId": "16510a10-ec22-4e7a-cf14-79f83e8ef086"
      },
      "execution_count": 23,
      "outputs": [
        {
          "output_type": "stream",
          "name": "stdout",
          "text": [
            "Missing values:\n",
            " "
          ]
        },
        {
          "output_type": "display_data",
          "data": {
            "text/plain": [
              "<IPython.core.display.HTML object>"
            ],
            "text/html": [
              "Query job 97ca5de5-d792-4c45-877b-ac4696313c80 is DONE. 1.3 MB processed. <a target=\"_blank\" href=\"https://console.cloud.google.com/bigquery?project=neat-bricolage-425013-d4&j=bq:EU:97ca5de5-d792-4c45-877b-ac4696313c80&page=queryresults\">Open Job</a>"
            ]
          },
          "metadata": {}
        },
        {
          "output_type": "display_data",
          "data": {
            "text/plain": [
              "<IPython.core.display.HTML object>"
            ],
            "text/html": [
              "Query job 8b11646c-d3a8-44b8-b6e0-912d479ce88e is DONE. 0 Bytes processed. <a target=\"_blank\" href=\"https://console.cloud.google.com/bigquery?project=neat-bricolage-425013-d4&j=bq:EU:8b11646c-d3a8-44b8-b6e0-912d479ce88e&page=queryresults\">Open Job</a>"
            ]
          },
          "metadata": {}
        },
        {
          "output_type": "display_data",
          "data": {
            "text/plain": [
              "<IPython.core.display.HTML object>"
            ],
            "text/html": [
              "Query job 4871f139-a809-425d-8b81-d398443c9c53 is DONE. 702 Bytes processed. <a target=\"_blank\" href=\"https://console.cloud.google.com/bigquery?project=neat-bricolage-425013-d4&j=bq:EU:4871f139-a809-425d-8b81-d398443c9c53&page=queryresults\">Open Job</a>"
            ]
          },
          "metadata": {}
        },
        {
          "output_type": "stream",
          "name": "stdout",
          "text": [
            "date                      0\n",
            "station_number            0\n",
            "mean_temp                 0\n",
            "mean_dew_point            0\n",
            "mean_sealevel_pressure    0\n",
            "mean_visibility           0\n",
            "mean_wind_speed           0\n",
            "max_temperature           0\n",
            "total_precipitation       0\n",
            "snow_depth                0\n",
            "fog                       0\n",
            "snow                      0\n",
            "hail                      0\n",
            "thunder                   0\n",
            "dtype: Int64\n"
          ]
        }
      ]
    },
    {
      "cell_type": "markdown",
      "source": [
        "### **3. Task**\n",
        "Now it is time to split the data, into a training, evaluation and test set. As a reminder, the date we are trying to predict snow fall for should constitute your test set."
      ],
      "metadata": {
        "id": "eFciKegLO66D"
      }
    },
    {
      "cell_type": "code",
      "source": [
        "from sklearn.model_selection import train_test_split\n",
        "from random import shuffle\n",
        "# Define features (X) and target (y)\n",
        "# Define features (X) and target (y)\n",
        "X = df_station_filtered.drop(columns=['snow', 'date'])\n",
        "y = df_station_filtered['snow']  # Target variable ('snow')\n"
      ],
      "metadata": {
        "id": "VNVVv4tcOfEN",
        "executionInfo": {
          "status": "ok",
          "timestamp": 1719824128548,
          "user_tz": -120,
          "elapsed": 385,
          "user": {
            "displayName": "",
            "userId": ""
          }
        }
      },
      "execution_count": 32,
      "outputs": []
    },
    {
      "cell_type": "code",
      "source": [
        "# Convert BigQuery DataFrame to pandas DataFrame if not already done\n",
        "if not isinstance(X, pd.DataFrame):\n",
        "    X = X.to_pandas()\n",
        "if not isinstance(y, pd.Series):\n",
        "    y = y.to_pandas()"
      ],
      "metadata": {
        "colab": {
          "base_uri": "https://localhost:8080/",
          "height": 52
        },
        "id": "RsWTlsl9iUDL",
        "executionInfo": {
          "status": "ok",
          "timestamp": 1719824649119,
          "user_tz": -120,
          "elapsed": 15723,
          "user": {
            "displayName": "",
            "userId": ""
          }
        },
        "outputId": "762ae2c5-d93c-48ca-e236-59fa48f7c317"
      },
      "execution_count": 34,
      "outputs": [
        {
          "output_type": "display_data",
          "data": {
            "text/plain": [
              "<IPython.core.display.HTML object>"
            ],
            "text/html": [
              "Query job bc0c8b0c-2ea4-477d-9d61-44832a5de4f6 is DONE. 1.3 MB processed. <a target=\"_blank\" href=\"https://console.cloud.google.com/bigquery?project=neat-bricolage-425013-d4&j=bq:EU:bc0c8b0c-2ea4-477d-9d61-44832a5de4f6&page=queryresults\">Open Job</a>"
            ]
          },
          "metadata": {}
        },
        {
          "output_type": "display_data",
          "data": {
            "text/plain": [
              "<IPython.core.display.HTML object>"
            ],
            "text/html": [
              "Query job d3a67619-71a5-4ff3-9f64-e5325f315e31 is DONE. 1.3 MB processed. <a target=\"_blank\" href=\"https://console.cloud.google.com/bigquery?project=neat-bricolage-425013-d4&j=bq:EU:d3a67619-71a5-4ff3-9f64-e5325f315e31&page=queryresults\">Open Job</a>"
            ]
          },
          "metadata": {}
        }
      ]
    },
    {
      "cell_type": "code",
      "source": [
        "# Check class distribution\n",
        "print(\"Class distribution in target variable:\")\n",
        "print(y.value_counts())"
      ],
      "metadata": {
        "colab": {
          "base_uri": "https://localhost:8080/"
        },
        "id": "zjvUJZlCjEbb",
        "executionInfo": {
          "status": "ok",
          "timestamp": 1719824831507,
          "user_tz": -120,
          "elapsed": 248,
          "user": {
            "displayName": "",
            "userId": ""
          }
        },
        "outputId": "d0fb15ae-9b15-47d2-c60f-fc408d3c3888"
      },
      "execution_count": 38,
      "outputs": [
        {
          "output_type": "stream",
          "name": "stdout",
          "text": [
            "Class distribution in target variable:\n",
            "snow\n",
            "False    12991\n",
            "True      1281\n",
            "Name: count, dtype: Int64\n"
          ]
        }
      ]
    },
    {
      "cell_type": "code",
      "source": [
        "# Split data into training (60%) and temporary (40%) sets\n",
        "X_train, X_temp, y_train, y_temp = train_test_split(X, y, test_size=0.4, random_state=42)"
      ],
      "metadata": {
        "id": "OGUJbidYiajS",
        "executionInfo": {
          "status": "ok",
          "timestamp": 1719824671062,
          "user_tz": -120,
          "elapsed": 306,
          "user": {
            "displayName": "",
            "userId": ""
          }
        }
      },
      "execution_count": 35,
      "outputs": []
    },
    {
      "cell_type": "code",
      "source": [
        "# Split the temporary set into validation (50% of 40%) and test (50% of 40%) sets\n",
        "X_val, X_test, y_val, y_test = train_test_split(X_temp, y_temp, test_size=0.5, random_state=42)"
      ],
      "metadata": {
        "id": "qMiwanw-ietD",
        "executionInfo": {
          "status": "ok",
          "timestamp": 1719824691037,
          "user_tz": -120,
          "elapsed": 263,
          "user": {
            "displayName": "",
            "userId": ""
          }
        }
      },
      "execution_count": 36,
      "outputs": []
    },
    {
      "cell_type": "code",
      "source": [
        "# Check sizes of datasets\n",
        "print(f\"Training set: {X_train.shape}, Validation set: {X_val.shape}, Test set: {X_test.shape}\")"
      ],
      "metadata": {
        "colab": {
          "base_uri": "https://localhost:8080/"
        },
        "id": "hFZPsBzBikSS",
        "executionInfo": {
          "status": "ok",
          "timestamp": 1719824711590,
          "user_tz": -120,
          "elapsed": 254,
          "user": {
            "displayName": "",
            "userId": ""
          }
        },
        "outputId": "29f68541-51ac-4fc4-c0fa-f705b23c0ab2"
      },
      "execution_count": 37,
      "outputs": [
        {
          "output_type": "stream",
          "name": "stdout",
          "text": [
            "Training set: (8563, 12), Validation set: (2854, 12), Test set: (2855, 12)\n"
          ]
        }
      ]
    },
    {
      "cell_type": "markdown",
      "source": [],
      "metadata": {
        "id": "tW2tTrg_CX3O"
      }
    },
    {
      "cell_type": "markdown",
      "source": [
        "### **Part 2**\n",
        "\n",
        "If you made it up to here all by yourself, you can use your prepared dataset to train an algorithm of your choice to forecast whether it will snow on the following date for each station in this dataset:"
      ],
      "metadata": {
        "id": "R8mKfa69jIZ4"
      }
    },
    {
      "cell_type": "code",
      "source": [
        "from sklearn.ensemble import RandomForestClassifier\n",
        "from sklearn.metrics import accuracy_score, classification_report, confusion_matrix\n",
        "\n",
        "# Assuming X_train, y_train, X_val, y_val, X_test, y_test are already defined and scaled\n",
        "\n",
        "# Initialize the Random Forest Classifier\n",
        "model = RandomForestClassifier(n_estimators=100, random_state=42)"
      ],
      "metadata": {
        "id": "fwMRODszjPBd",
        "executionInfo": {
          "status": "ok",
          "timestamp": 1719825057204,
          "user_tz": -120,
          "elapsed": 490,
          "user": {
            "displayName": "",
            "userId": ""
          }
        }
      },
      "execution_count": 39,
      "outputs": []
    },
    {
      "cell_type": "code",
      "source": [
        "# Train the model\n",
        "model.fit(X_train, y_train)"
      ],
      "metadata": {
        "colab": {
          "base_uri": "https://localhost:8080/",
          "height": 74
        },
        "id": "Ewy6n-u3j83Q",
        "executionInfo": {
          "status": "ok",
          "timestamp": 1719825155752,
          "user_tz": -120,
          "elapsed": 175,
          "user": {
            "displayName": "",
            "userId": ""
          }
        },
        "outputId": "c7ab4f83-982e-48ae-e8ea-745e4ce0fd17"
      },
      "execution_count": 40,
      "outputs": [
        {
          "output_type": "execute_result",
          "data": {
            "text/plain": [
              "RandomForestClassifier(random_state=42)"
            ],
            "text/html": [
              "<style>#sk-container-id-1 {color: black;background-color: white;}#sk-container-id-1 pre{padding: 0;}#sk-container-id-1 div.sk-toggleable {background-color: white;}#sk-container-id-1 label.sk-toggleable__label {cursor: pointer;display: block;width: 100%;margin-bottom: 0;padding: 0.3em;box-sizing: border-box;text-align: center;}#sk-container-id-1 label.sk-toggleable__label-arrow:before {content: \"▸\";float: left;margin-right: 0.25em;color: #696969;}#sk-container-id-1 label.sk-toggleable__label-arrow:hover:before {color: black;}#sk-container-id-1 div.sk-estimator:hover label.sk-toggleable__label-arrow:before {color: black;}#sk-container-id-1 div.sk-toggleable__content {max-height: 0;max-width: 0;overflow: hidden;text-align: left;background-color: #f0f8ff;}#sk-container-id-1 div.sk-toggleable__content pre {margin: 0.2em;color: black;border-radius: 0.25em;background-color: #f0f8ff;}#sk-container-id-1 input.sk-toggleable__control:checked~div.sk-toggleable__content {max-height: 200px;max-width: 100%;overflow: auto;}#sk-container-id-1 input.sk-toggleable__control:checked~label.sk-toggleable__label-arrow:before {content: \"▾\";}#sk-container-id-1 div.sk-estimator input.sk-toggleable__control:checked~label.sk-toggleable__label {background-color: #d4ebff;}#sk-container-id-1 div.sk-label input.sk-toggleable__control:checked~label.sk-toggleable__label {background-color: #d4ebff;}#sk-container-id-1 input.sk-hidden--visually {border: 0;clip: rect(1px 1px 1px 1px);clip: rect(1px, 1px, 1px, 1px);height: 1px;margin: -1px;overflow: hidden;padding: 0;position: absolute;width: 1px;}#sk-container-id-1 div.sk-estimator {font-family: monospace;background-color: #f0f8ff;border: 1px dotted black;border-radius: 0.25em;box-sizing: border-box;margin-bottom: 0.5em;}#sk-container-id-1 div.sk-estimator:hover {background-color: #d4ebff;}#sk-container-id-1 div.sk-parallel-item::after {content: \"\";width: 100%;border-bottom: 1px solid gray;flex-grow: 1;}#sk-container-id-1 div.sk-label:hover label.sk-toggleable__label {background-color: #d4ebff;}#sk-container-id-1 div.sk-serial::before {content: \"\";position: absolute;border-left: 1px solid gray;box-sizing: border-box;top: 0;bottom: 0;left: 50%;z-index: 0;}#sk-container-id-1 div.sk-serial {display: flex;flex-direction: column;align-items: center;background-color: white;padding-right: 0.2em;padding-left: 0.2em;position: relative;}#sk-container-id-1 div.sk-item {position: relative;z-index: 1;}#sk-container-id-1 div.sk-parallel {display: flex;align-items: stretch;justify-content: center;background-color: white;position: relative;}#sk-container-id-1 div.sk-item::before, #sk-container-id-1 div.sk-parallel-item::before {content: \"\";position: absolute;border-left: 1px solid gray;box-sizing: border-box;top: 0;bottom: 0;left: 50%;z-index: -1;}#sk-container-id-1 div.sk-parallel-item {display: flex;flex-direction: column;z-index: 1;position: relative;background-color: white;}#sk-container-id-1 div.sk-parallel-item:first-child::after {align-self: flex-end;width: 50%;}#sk-container-id-1 div.sk-parallel-item:last-child::after {align-self: flex-start;width: 50%;}#sk-container-id-1 div.sk-parallel-item:only-child::after {width: 0;}#sk-container-id-1 div.sk-dashed-wrapped {border: 1px dashed gray;margin: 0 0.4em 0.5em 0.4em;box-sizing: border-box;padding-bottom: 0.4em;background-color: white;}#sk-container-id-1 div.sk-label label {font-family: monospace;font-weight: bold;display: inline-block;line-height: 1.2em;}#sk-container-id-1 div.sk-label-container {text-align: center;}#sk-container-id-1 div.sk-container {/* jupyter's `normalize.less` sets `[hidden] { display: none; }` but bootstrap.min.css set `[hidden] { display: none !important; }` so we also need the `!important` here to be able to override the default hidden behavior on the sphinx rendered scikit-learn.org. See: https://github.com/scikit-learn/scikit-learn/issues/21755 */display: inline-block !important;position: relative;}#sk-container-id-1 div.sk-text-repr-fallback {display: none;}</style><div id=\"sk-container-id-1\" class=\"sk-top-container\"><div class=\"sk-text-repr-fallback\"><pre>RandomForestClassifier(random_state=42)</pre><b>In a Jupyter environment, please rerun this cell to show the HTML representation or trust the notebook. <br />On GitHub, the HTML representation is unable to render, please try loading this page with nbviewer.org.</b></div><div class=\"sk-container\" hidden><div class=\"sk-item\"><div class=\"sk-estimator sk-toggleable\"><input class=\"sk-toggleable__control sk-hidden--visually\" id=\"sk-estimator-id-1\" type=\"checkbox\" checked><label for=\"sk-estimator-id-1\" class=\"sk-toggleable__label sk-toggleable__label-arrow\">RandomForestClassifier</label><div class=\"sk-toggleable__content\"><pre>RandomForestClassifier(random_state=42)</pre></div></div></div></div></div>"
            ]
          },
          "metadata": {},
          "execution_count": 40
        }
      ]
    },
    {
      "cell_type": "code",
      "source": [
        "# Predict on the validation set\n",
        "y_val_pred = model.predict(X_val)"
      ],
      "metadata": {
        "id": "5SLzCWn1kV5D",
        "executionInfo": {
          "status": "ok",
          "timestamp": 1719825174419,
          "user_tz": -120,
          "elapsed": 242,
          "user": {
            "displayName": "",
            "userId": ""
          }
        }
      },
      "execution_count": 41,
      "outputs": []
    },
    {
      "cell_type": "code",
      "source": [
        "# Evaluate the model on the validation set\n",
        "val_accuracy = accuracy_score(y_val, y_val_pred)\n",
        "val_classification_report = classification_report(y_val, y_val_pred)\n",
        "val_confusion_matrix = confusion_matrix(y_val, y_val_pred)"
      ],
      "metadata": {
        "id": "CQmrJN9ykZjO",
        "executionInfo": {
          "status": "ok",
          "timestamp": 1719825189164,
          "user_tz": -120,
          "elapsed": 243,
          "user": {
            "displayName": "",
            "userId": ""
          }
        }
      },
      "execution_count": 42,
      "outputs": []
    },
    {
      "cell_type": "code",
      "source": [
        "print(\"Validation Accuracy:\", val_accuracy)\n",
        "print(\"Validation Classification Report:\\n\", val_classification_report)\n",
        "print(\"Validation Confusion Matrix:\\n\", val_confusion_matrix)"
      ],
      "metadata": {
        "colab": {
          "base_uri": "https://localhost:8080/"
        },
        "id": "Qx4H8oBNkgWy",
        "executionInfo": {
          "status": "ok",
          "timestamp": 1719825208207,
          "user_tz": -120,
          "elapsed": 232,
          "user": {
            "displayName": "",
            "userId": ""
          }
        },
        "outputId": "d59973c4-60dc-4e3a-ddbd-39650422f098"
      },
      "execution_count": 43,
      "outputs": [
        {
          "output_type": "stream",
          "name": "stdout",
          "text": [
            "Validation Accuracy: 1.0\n",
            "Validation Classification Report:\n",
            "               precision    recall  f1-score   support\n",
            "\n",
            "         0.0       1.00      1.00      1.00      2607\n",
            "         1.0       1.00      1.00      1.00       247\n",
            "\n",
            "    accuracy                           1.00      2854\n",
            "   macro avg       1.00      1.00      1.00      2854\n",
            "weighted avg       1.00      1.00      1.00      2854\n",
            "\n",
            "Validation Confusion Matrix:\n",
            " [[2607    0]\n",
            " [   0  247]]\n"
          ]
        }
      ]
    },
    {
      "cell_type": "code",
      "source": [
        "# Predict on the test set\n",
        "y_test_pred = model.predict(X_test)"
      ],
      "metadata": {
        "id": "yXl1Vk68klW8",
        "executionInfo": {
          "status": "ok",
          "timestamp": 1719825369873,
          "user_tz": -120,
          "elapsed": 272,
          "user": {
            "displayName": "",
            "userId": ""
          }
        }
      },
      "execution_count": 45,
      "outputs": []
    },
    {
      "cell_type": "code",
      "source": [
        "# Evaluate the model on the test set\n",
        "test_accuracy = accuracy_score(y_test, y_test_pred)\n",
        "test_classification_report = classification_report(y_test, y_test_pred)\n",
        "test_confusion_matrix = confusion_matrix(y_test, y_test_pred)\n"
      ],
      "metadata": {
        "id": "Y5kFZxDVlJa0",
        "executionInfo": {
          "status": "ok",
          "timestamp": 1719825384797,
          "user_tz": -120,
          "elapsed": 235,
          "user": {
            "displayName": "",
            "userId": ""
          }
        }
      },
      "execution_count": 46,
      "outputs": []
    },
    {
      "cell_type": "code",
      "source": [
        "print(\"Test Accuracy:\", test_accuracy)\n",
        "print(\"Test Classification Report:\\n\", test_classification_report)\n",
        "print(\"Test Confusion Matrix:\\n\", test_confusion_matrix)"
      ],
      "metadata": {
        "colab": {
          "base_uri": "https://localhost:8080/"
        },
        "id": "bUMyEEhklNEe",
        "executionInfo": {
          "status": "ok",
          "timestamp": 1719825402899,
          "user_tz": -120,
          "elapsed": 241,
          "user": {
            "displayName": "",
            "userId": ""
          }
        },
        "outputId": "d4294d0e-f011-4b4c-b776-1ca56aa7fb21"
      },
      "execution_count": 47,
      "outputs": [
        {
          "output_type": "stream",
          "name": "stdout",
          "text": [
            "Test Accuracy: 1.0\n",
            "Test Classification Report:\n",
            "               precision    recall  f1-score   support\n",
            "\n",
            "         0.0       1.00      1.00      1.00      2614\n",
            "         1.0       1.00      1.00      1.00       241\n",
            "\n",
            "    accuracy                           1.00      2855\n",
            "   macro avg       1.00      1.00      1.00      2855\n",
            "weighted avg       1.00      1.00      1.00      2855\n",
            "\n",
            "Test Confusion Matrix:\n",
            " [[2614    0]\n",
            " [   0  241]]\n"
          ]
        }
      ]
    },
    {
      "cell_type": "code",
      "source": [],
      "metadata": {
        "id": "tsAPX_OdlSuS"
      },
      "execution_count": null,
      "outputs": []
    }
  ]
}